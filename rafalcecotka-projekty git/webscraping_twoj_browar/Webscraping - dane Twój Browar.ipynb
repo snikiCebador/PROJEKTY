{
 "cells": [
  {
   "cell_type": "code",
   "execution_count": 1,
   "id": "28368c64",
   "metadata": {},
   "outputs": [],
   "source": [
    "import pandas as pd\n",
    "import requests\n",
    "from bs4 import BeautifulSoup"
   ]
  },
  {
   "cell_type": "code",
   "execution_count": 2,
   "id": "a0308fbf",
   "metadata": {},
   "outputs": [],
   "source": [
    "#strona z listą wszystkich chmieli\n",
    "site_hops = \"https://twojbrowar.pl/pl/chmiele?id_category=18&n=133\""
   ]
  },
  {
   "cell_type": "code",
   "execution_count": 3,
   "id": "619d6002",
   "metadata": {},
   "outputs": [],
   "source": [
    "#budowa obiektów do analizy strony z listą chmieli\n",
    "hop_site_resp = requests.get(site_hops)\n",
    "hop_site_html = hop_site_resp.text\n",
    "hop_site_soup = BeautifulSoup(hop_site_html,'html.parser')"
   ]
  },
  {
   "cell_type": "code",
   "execution_count": 4,
   "id": "a246e34a",
   "metadata": {},
   "outputs": [],
   "source": [
    "# pętla budująca lonki dla chmieli na stornie\n",
    "hop_link_start_string = \"https://twojbrowar.pl/pl/surowce-piwowarskie/chmiele/\" #po tym rozpoznajemy, że link dot. chmielu\n",
    "hop_link_arr = [] #lista podstron z pojedynczym chmielem\n",
    "\n",
    "for i in hop_site_soup.find_all(\"a\", class_=\"product-name\"):\n",
    "    if hop_link_start_string in str(i[\"href\"]):\n",
    "        hop_link_arr.append(i[\"href\"])\n",
    "\n",
    "hop_link_arr = list(set(hop_link_arr))     # usuwaniu duplikatów obiekt set nie przyjmuje duplikatów a zamiana je usuwa   \n",
    "#produktem tej pętli jest lista z linkami pojedynczych chmieli, każdy element listy jest inputem do kolejnej części procesu"
   ]
  },
  {
   "cell_type": "code",
   "execution_count": 5,
   "id": "800316eb",
   "metadata": {},
   "outputs": [],
   "source": [
    "#mechanizm pobierania informacji o każdym chmielu, wersja z danymi w formie DataFrame\n",
    "\n",
    "indeks = []\n",
    "atrybut = []\n",
    "wartosc = []\n",
    "\n",
    "for link in hop_link_arr: #iteracja przez każdą stronę z pojedynczym chmielem w celu pobrania informacji\n",
    "    #konstrukcja obiektów do analizy strony\n",
    "    odp = requests.get(link)\n",
    "    html=odp.text\n",
    "    soup = BeautifulSoup(html,'html.parser')\n",
    "    \n",
    "    #tabela z parametrami dla linku\n",
    "    param_table = soup.find_all(class_='table-data-sheet')[0].find_all(\"tr\")\n",
    "\n",
    "    nazwa = soup.find_all(\"h1\",itemprop=\"name\")[0].text\n",
    "  \n",
    "    for row in param_table:\n",
    "        #indeks\n",
    "        indeks.append(nazwa)\n",
    "        #atrybut\n",
    "        atrybut.append(row.find_all(\"td\")[1].text)\n",
    "        #wartosc\n",
    "        wartosc.append(row.find_all(\"td\")[2].text)\n",
    "    \n",
    "    indeks.append(nazwa)\n",
    "    atrybut.append(\"Dostępność\")\n",
    "    wartosc.append(soup.find_all(id='pb-available-title')[0].find(\"span\").text)\n",
    "    \n",
    "    indeks.append(nazwa)\n",
    "    atrybut.append(\"Cena\")\n",
    "    wartosc.append(soup.find_all(id='our_price_display')[0].text)\n",
    "\n",
    "\n",
    "dane = {\"Indeks\":indeks,\"Atrybut\":atrybut,\"Wartość\":wartosc}\n",
    "\n",
    "df_hops = pd.DataFrame(dane)\n",
    "df_pivot_hops = df_hops.pivot_table(index='Indeks', columns='Atrybut', values='Wartość', aggfunc=lambda x: '; '.join(x))"
   ]
  },
  {
   "cell_type": "code",
   "execution_count": 6,
   "id": "43c41a4c",
   "metadata": {},
   "outputs": [],
   "source": [
    "df_pivot_hops.to_csv(\"C://Users//Rafał//Desktop//rafalcecotka-projekty//webscraping_twoj_browar//chmiel.csv\")"
   ]
  },
  {
   "cell_type": "code",
   "execution_count": 7,
   "id": "e60dab49",
   "metadata": {},
   "outputs": [],
   "source": [
    "df_pivot_hops.to_excel(\"C://Users//Rafał//Desktop//rafalcecotka-projekty//webscraping_twoj_browar//chmiel.xlsx\")"
   ]
  }
 ],
 "metadata": {
  "kernelspec": {
   "display_name": "Python 3 (ipykernel)",
   "language": "python",
   "name": "python3"
  },
  "language_info": {
   "codemirror_mode": {
    "name": "ipython",
    "version": 3
   },
   "file_extension": ".py",
   "mimetype": "text/x-python",
   "name": "python",
   "nbconvert_exporter": "python",
   "pygments_lexer": "ipython3",
   "version": "3.10.9"
  }
 },
 "nbformat": 4,
 "nbformat_minor": 5
}
