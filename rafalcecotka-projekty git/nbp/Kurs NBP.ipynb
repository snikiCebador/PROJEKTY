{
 "cells": [
  {
   "cell_type": "code",
   "execution_count": null,
   "id": "adc2d33d",
   "metadata": {},
   "outputs": [],
   "source": [
    "import requests\n",
    "import pandas as pd\n",
    "import time\n",
    "from datetime import datetime\n",
    "\n",
    "file_config = open(\"K://config_links.txt\", 'r') #wczytanie konfiguracji\n",
    "dict_config_links = eval(file_config.read()) #zamiana tekstu z def.słownika w obiekt słownika\n",
    "logs = [] #obiekt przechowujący informację o wyniku pojedynczej iteracji\n",
    "nr = 0 #licznik iteracji\n",
    "while True: #utworzenie nieskończonej pętli\n",
    "    nr=+1 #określenie numeru pętli\n",
    "    try: # obsługa przypadku z powodzeniem\n",
    "        for i in dict_config_links.keys():#iterujemy przez klucze słownika (nazwy plików)\n",
    "            resp = requests.get(dict_config_links[i]) #uzyskanie danych z linku w konfiguracji (wartość dla klucza to link)\n",
    "            output = open(\"K:\\\\\"+ str(i) +\".xls\", 'wb') #utworzenie pliku wynikowego\n",
    "            output.write(resp.content) #zapisanie danych z linku do pliku wynikowego\n",
    "            output.close() #zamknięcie pliku\n",
    "        #obsługa pliku z logami\n",
    "        logs_txt = str(datetime.now().strftime(\"%d/%m/%Y, %H:%M:%S\")) + \" zostały pobrane pliki w pętli nr \" + str(nr)\n",
    "        logs.append(logs_txt) #do logów dodajemy informację, że w danym czasie i pętli iteracja się powiodła\n",
    "        logs_df = pd.DataFrame(logs) #zamieniamy logi na obiekt pandas\n",
    "        logs_df.to_csv(\"K:\\\\logs.csv\") #logi umieszczamy w pliku wynikowym z logami\n",
    "        time.sleep(60) #udane próby powtarzane co 60sec\n",
    "    except: # obsługa pzypadku bezpowodzenia\n",
    "        logs_txt = str(datetime.now().strftime(\"%d/%m/%Y, %H:%M:%S\")) + \" NIE zostały pobrane pliki w pętli nr \" + str(nr)\n",
    "        logs.append(logs_txt) #do logów dodajemy informację, że w danym czasie i pętli iteracja się NIE powiodła\n",
    "        logs_df = pd.DataFrame(logs) #zamieniamy logi na obiekt pandas\n",
    "        logs_df.to_csv(\"K:\\\\logs.csv\") #logi umieszczamy w pliku wynikowym z logami\n",
    "        time.sleep(20) #po błędzie odczekujemy 20sec"
   ]
  }
 ],
 "metadata": {
  "kernelspec": {
   "display_name": "Python 3 (ipykernel)",
   "language": "python",
   "name": "python3"
  },
  "language_info": {
   "codemirror_mode": {
    "name": "ipython",
    "version": 3
   },
   "file_extension": ".py",
   "mimetype": "text/x-python",
   "name": "python",
   "nbconvert_exporter": "python",
   "pygments_lexer": "ipython3",
   "version": "3.10.9"
  }
 },
 "nbformat": 4,
 "nbformat_minor": 5
}
